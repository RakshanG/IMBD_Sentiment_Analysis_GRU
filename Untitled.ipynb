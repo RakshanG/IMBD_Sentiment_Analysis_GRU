{
 "cells": [
  {
   "cell_type": "code",
   "execution_count": 49,
   "id": "0f2eeed0-7783-4e88-b84a-ce6bfc0d4732",
   "metadata": {},
   "outputs": [
    {
     "name": "stdout",
     "output_type": "stream",
     "text": [
      " Tokenizer saved as tokenizer.pkl\n",
      "Epoch 1/5\n"
     ]
    },
    {
     "name": "stderr",
     "output_type": "stream",
     "text": [
      "2025-08-31 19:47:35.425765: I tensorflow/core/grappler/optimizers/custom_graph_optimizer_registry.cc:114] Plugin optimizer for device_type GPU is enabled.\n",
      "2025-08-31 19:47:35.602331: I tensorflow/core/grappler/optimizers/custom_graph_optimizer_registry.cc:114] Plugin optimizer for device_type GPU is enabled.\n"
     ]
    },
    {
     "name": "stdout",
     "output_type": "stream",
     "text": [
      "  1/313 [..............................] - ETA: 5:51 - loss: 0.6894 - accuracy: 0.6250"
     ]
    },
    {
     "name": "stderr",
     "output_type": "stream",
     "text": [
      "2025-08-31 19:47:35.787355: I tensorflow/core/grappler/optimizers/custom_graph_optimizer_registry.cc:114] Plugin optimizer for device_type GPU is enabled.\n"
     ]
    },
    {
     "name": "stdout",
     "output_type": "stream",
     "text": [
      "313/313 [==============================] - ETA: 0s - loss: 0.4673 - accuracy: 0.7706"
     ]
    },
    {
     "name": "stderr",
     "output_type": "stream",
     "text": [
      "2025-08-31 19:47:49.886233: I tensorflow/core/grappler/optimizers/custom_graph_optimizer_registry.cc:114] Plugin optimizer for device_type GPU is enabled.\n",
      "2025-08-31 19:47:49.939644: I tensorflow/core/grappler/optimizers/custom_graph_optimizer_registry.cc:114] Plugin optimizer for device_type GPU is enabled.\n"
     ]
    },
    {
     "name": "stdout",
     "output_type": "stream",
     "text": [
      "313/313 [==============================] - 16s 47ms/step - loss: 0.4673 - accuracy: 0.7706 - val_loss: 0.3274 - val_accuracy: 0.8612\n",
      "Epoch 2/5\n",
      "313/313 [==============================] - 13s 41ms/step - loss: 0.2237 - accuracy: 0.9178 - val_loss: 0.3008 - val_accuracy: 0.8748\n",
      "Epoch 3/5\n",
      "313/313 [==============================] - 13s 41ms/step - loss: 0.1227 - accuracy: 0.9588 - val_loss: 0.3469 - val_accuracy: 0.8778\n",
      "Epoch 4/5\n",
      "313/313 [==============================] - 12s 38ms/step - loss: 0.0777 - accuracy: 0.9748 - val_loss: 0.4336 - val_accuracy: 0.8366\n",
      "Epoch 5/5\n",
      "313/313 [==============================] - 12s 37ms/step - loss: 0.0522 - accuracy: 0.9841 - val_loss: 0.4188 - val_accuracy: 0.8662\n",
      "782/782 [==============================] - 8s 11ms/step - loss: 0.4936 - accuracy: 0.8519\n",
      "Test Accuracy: 0.8519, Test Loss: 0.4936\n",
      "Model saved as imdb_gru_model.h5\n"
     ]
    }
   ],
   "source": [
    "import tensorflow as tf\n",
    "import tensorflow_datasets as tfds\n",
    "import numpy as np\n",
    "import joblib\n",
    "from tensorflow.keras.preprocessing.text import Tokenizer\n",
    "from tensorflow.keras.preprocessing.sequence import pad_sequences\n",
    "from tensorflow.keras.models import Sequential\n",
    "from tensorflow.keras.layers import Embedding, GRU, Dense, Dropout\n",
    "\n",
    "imdb_data = tfds.load(\"imdb_reviews\", as_supervised=True)\n",
    "train_data, test_data = imdb_data['train'], imdb_data['test']\n",
    "\n",
    "train_texts = [text.numpy().decode(\"utf-8\") for text, label in train_data]\n",
    "train_labels = [label.numpy() for text, label in train_data]\n",
    "test_texts = [text.numpy().decode(\"utf-8\") for text, label in test_data]\n",
    "test_labels = [label.numpy() for text, label in test_data]\n",
    "\n",
    "num_words = 30000\n",
    "maxlen = 300\n",
    "tokenizer = Tokenizer(num_words=num_words, oov_token=\"<OOV>\")\n",
    "tokenizer.fit_on_texts(train_texts)\n",
    "\n",
    "X_train = tokenizer.texts_to_sequences(train_texts)\n",
    "X_test = tokenizer.texts_to_sequences(test_texts)\n",
    "\n",
    "X_train = pad_sequences(X_train, maxlen=maxlen)\n",
    "X_test = pad_sequences(X_test, maxlen=maxlen)\n",
    "y_train = np.array(train_labels)\n",
    "y_test = np.array(test_labels)\n",
    "\n",
    "joblib.dump(tokenizer, \"tokenizer.pkl\")\n",
    "print(\" Tokenizer saved as tokenizer.pkl\")\n",
    "\n",
    "model = Sequential([\n",
    "    Embedding(num_words, 128, input_length=maxlen),\n",
    "    GRU(64, return_sequences=False),\n",
    "    Dropout(0.5),\n",
    "    Dense(1, activation=\"sigmoid\")\n",
    "])\n",
    "\n",
    "model.compile(loss=\"binary_crossentropy\", optimizer=\"adam\", metrics=[\"accuracy\"])\n",
    "\n",
    "history = model.fit(\n",
    "    X_train, y_train,\n",
    "    epochs=5,\n",
    "    batch_size=64,\n",
    "    validation_split=0.2\n",
    ")\n",
    "\n",
    "loss, acc = model.evaluate(X_test, y_test, verbose=1)\n",
    "print(f\"Test Accuracy: {acc:.4f}, Test Loss: {loss:.4f}\")\n",
    "\n",
    "model.save(\"imdb_gru_model.h5\")\n",
    "print(\"Model saved as imdb_gru_model.h5\")\n"
   ]
  },
  {
   "cell_type": "code",
   "execution_count": null,
   "id": "5c928ae2-6bce-4557-af04-9a29847deb89",
   "metadata": {},
   "outputs": [],
   "source": []
  }
 ],
 "metadata": {
  "kernelspec": {
   "display_name": "Python 3.11 (pandas)",
   "language": "python",
   "name": "py311-pandas"
  },
  "language_info": {
   "codemirror_mode": {
    "name": "ipython",
    "version": 3
   },
   "file_extension": ".py",
   "mimetype": "text/x-python",
   "name": "python",
   "nbconvert_exporter": "python",
   "pygments_lexer": "ipython3",
   "version": "3.11.4"
  }
 },
 "nbformat": 4,
 "nbformat_minor": 5
}
